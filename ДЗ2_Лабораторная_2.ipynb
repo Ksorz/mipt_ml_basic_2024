{
  "cells": [
    {
      "cell_type": "markdown",
      "metadata": {
        "id": "view-in-github",
        "colab_type": "text"
      },
      "source": [
        "<a href=\"https://colab.research.google.com/github/Ksorz/mipt_ml_basic_2024/blob/main/%D0%94%D0%972_%D0%9B%D0%B0%D0%B1%D0%BE%D1%80%D0%B0%D1%82%D0%BE%D1%80%D0%BD%D0%B0%D1%8F_2.ipynb\" target=\"_parent\"><img src=\"https://colab.research.google.com/assets/colab-badge.svg\" alt=\"Open In Colab\"/></a>"
      ]
    },
    {
      "cell_type": "markdown",
      "metadata": {
        "id": "mByPWiidS8Z5"
      },
      "source": [
        "# Лабораторная работа №2. Pandas"
      ]
    },
    {
      "cell_type": "markdown",
      "metadata": {
        "id": "SSasC_JtTK6r"
      },
      "source": [
        "*Версия от 27.09.2024*\n",
        "\n",
        "**Мягкий дедлайн** ~ 10.10.24\n",
        "\n",
        "**Жесткий дедлайн** ~ 24.10.24"
      ]
    },
    {
      "cell_type": "markdown",
      "metadata": {
        "id": "xTNbV6c6CEbV"
      },
      "source": [
        "Вам предстоит поработать с большим датасетом, содержащим логи пользователей на сайте магазина по продаже косметики. Записи собраны с октября 2019 г. по февраль 2020 г.\n",
        "\n",
        "https://www.kaggle.com/datasets/mkechinov/ecommerce-events-history-in-cosmetics-shop\n",
        "\n",
        "Каждая строка в файле представляет лог-событие. Все события связаны с товарами и пользователями.\n",
        "\n",
        "Описание столбцов:\n",
        "\n",
        "`event_time` - время события\n",
        "\n",
        "`event_type` - тип события (**view** - просмотр товара, **cart** - добавление/просмотр корзины, **remove_from_cart** - удаление из корзины, **purchase** - покупка)\n",
        "\n",
        "`product_id` - уникальный идентификатор товара\n",
        "\n",
        "`category_id` - уникальный идентификатор категории, к которой принадлежит продукт\n",
        "\n",
        "`category_code` - название категории\n",
        "\n",
        "`brand` - компания, которая выпускает товар\n",
        "\n",
        "`price` - цена продукта\n",
        "\n",
        "`user_id` - уникальный идентификатор пользователя\n",
        "\n",
        "`user_session` - уникальный индентификатор сессии пользователя, в течение которое происходят события"
      ]
    },
    {
      "cell_type": "markdown",
      "metadata": {
        "id": "cDCVM7gZQ16r"
      },
      "source": [
        "Импортируйте необходимые библиотеки:"
      ]
    },
    {
      "cell_type": "code",
      "execution_count": null,
      "metadata": {
        "id": "XKuUUJrPQ7CN"
      },
      "outputs": [],
      "source": [
        "#code here"
      ]
    },
    {
      "cell_type": "markdown",
      "metadata": {
        "id": "2neR_Q1ATs45"
      },
      "source": [
        "## Задание 1. Подготовка данных\n",
        "(0.5 баллов)"
      ]
    },
    {
      "cell_type": "markdown",
      "metadata": {
        "id": "Alx62m0wIUHj"
      },
      "source": [
        "1) Имеется 5 файлов, в каждом из которых пользовательские сессии за каждый месяц с октября по февраль.\n",
        "\n",
        "Создайте один большой датасет `events_data` объединив все имеющиеся (`2019-Oct.csv`,`2019-Nov.csv`, `2019-Dec.csv`, `2020-Jan.csv`, `2020-Feb.csv`)\n",
        "\n",
        "Не забудьте переиндексировать новый датасет."
      ]
    },
    {
      "cell_type": "markdown",
      "metadata": {
        "id": "SLFRXmZ9VDaP"
      },
      "source": [
        "Если вы используете `Google Colab`, то наиболее удобным способом работы с файлами будет использование гугл диска, в котором будут находиться все ваши файлы."
      ]
    },
    {
      "cell_type": "code",
      "execution_count": null,
      "metadata": {
        "id": "tDJCbB6eU701"
      },
      "outputs": [],
      "source": [
        "# from google.colab import drive\n",
        "# drive.mount('/content/drive')"
      ]
    },
    {
      "cell_type": "code",
      "execution_count": null,
      "metadata": {
        "id": "uSzHS6g2eegl"
      },
      "outputs": [],
      "source": [
        "#code here"
      ]
    },
    {
      "cell_type": "markdown",
      "source": [
        "2) С помощью метода `info` выведите информацию по типам данных столбцов датасета.\n",
        "\n",
        "Для отображения количества заполненных полей используейте опцию `pd.options.display.max_info_rows` и установите нужное значение."
      ],
      "metadata": {
        "id": "4byCFsOEZZD4"
      }
    },
    {
      "cell_type": "code",
      "source": [
        "#code here"
      ],
      "metadata": {
        "id": "obtBG8xtdI0N"
      },
      "execution_count": null,
      "outputs": []
    },
    {
      "cell_type": "markdown",
      "source": [
        "3) Можно заметить, что в данных есть пропуски. Выпишите, какие столбцы, кроме `user_session`, не удастся использовать для анализа.\n"
      ],
      "metadata": {
        "id": "GxNDwu_dGxrg"
      }
    },
    {
      "cell_type": "code",
      "source": [],
      "metadata": {
        "id": "7c6rJFv7qszW"
      },
      "execution_count": null,
      "outputs": []
    },
    {
      "cell_type": "markdown",
      "source": [
        "\n",
        "4) Столбец `user_session` имеет очень важное значение, так как по нему можно отследить путь пользователя в логах. Соответственно данные нужно либо восполнить, либо удалить.\n",
        "\n",
        "Восполнять данные в данном случае не имеет большого смысла, так как определить к какой сессии принадлежит лог - задача нетривиальная, при этом пропущенных значений не так много, чтобы мы потеряли много информации, поэтому лучшим решением будет удалить строки с пропущенными значениями в этом столбце."
      ],
      "metadata": {
        "id": "l07Z3DpKqtFp"
      }
    },
    {
      "cell_type": "code",
      "source": [
        "#code here"
      ],
      "metadata": {
        "id": "_iDR7E-KGVPY"
      },
      "execution_count": null,
      "outputs": []
    },
    {
      "cell_type": "code",
      "source": [
        "assert len(events_data) == 20688242, \"Неправильный размер датасета\""
      ],
      "metadata": {
        "id": "pgFOLUdgOHI4"
      },
      "execution_count": null,
      "outputs": []
    },
    {
      "cell_type": "markdown",
      "source": [
        "5) Для удобства работы со стобцом `event_time` преобразуйте его из типа `object` в тип `datetime`. Для этого можете воспользоваться методом `to_datetime`."
      ],
      "metadata": {
        "id": "lNctla2FUjCW"
      }
    },
    {
      "cell_type": "code",
      "source": [
        "#code here"
      ],
      "metadata": {
        "id": "kGnN9bMsR5pT"
      },
      "execution_count": null,
      "outputs": []
    },
    {
      "cell_type": "markdown",
      "source": [
        "# Задание 2. Ad-hoc аналитика\n",
        "\n",
        "0.5 баллов"
      ],
      "metadata": {
        "id": "T_T3SbblIanb"
      }
    },
    {
      "cell_type": "markdown",
      "source": [
        "1) Проведите простейший описательный анализ датасета с помощью встроенной функции pandas. Какие выводы можно сделать?"
      ],
      "metadata": {
        "id": "hzKz_4skpVmQ"
      }
    },
    {
      "cell_type": "code",
      "source": [],
      "metadata": {
        "id": "9mhg3g3_qpPC"
      },
      "execution_count": null,
      "outputs": []
    },
    {
      "cell_type": "markdown",
      "source": [
        "2) Сколько всего различных категорий товаров (`category_id`)?"
      ],
      "metadata": {
        "id": "NuV2BCBDq3fZ"
      }
    },
    {
      "cell_type": "code",
      "source": [],
      "metadata": {
        "id": "BwiHpJIHq3tU"
      },
      "execution_count": null,
      "outputs": []
    },
    {
      "cell_type": "markdown",
      "source": [
        "3) Сколько различных брендов? Какой бренд встречается чаще всего?"
      ],
      "metadata": {
        "id": "siCPjf05rQ-6"
      }
    },
    {
      "cell_type": "code",
      "source": [],
      "metadata": {
        "id": "FRYOpBWZrRPC"
      },
      "execution_count": null,
      "outputs": []
    },
    {
      "cell_type": "markdown",
      "source": [
        "4) Какой товар чаще всего смотрели? Какова его средняя цена?"
      ],
      "metadata": {
        "id": "OMPf5mdg8KN1"
      }
    },
    {
      "cell_type": "code",
      "source": [
        "#code here"
      ],
      "metadata": {
        "id": "7IPRFMgH8Jtf"
      },
      "execution_count": null,
      "outputs": []
    },
    {
      "cell_type": "markdown",
      "source": [
        "5) Сколько уникальных пользователей купили данный товар?\n",
        "\n",
        "Сохраните значение в переменную `count_user_purchase_product`."
      ],
      "metadata": {
        "id": "ihqexN6u9nUT"
      }
    },
    {
      "cell_type": "code",
      "source": [
        "#code here"
      ],
      "metadata": {
        "id": "V5ldjAZV9moW"
      },
      "execution_count": null,
      "outputs": []
    },
    {
      "cell_type": "code",
      "source": [
        "assert count_user_purchase_product == 7049, \"Неправильное значение\""
      ],
      "metadata": {
        "id": "j9Lw-Pvq_Dg6"
      },
      "execution_count": null,
      "outputs": []
    },
    {
      "cell_type": "markdown",
      "source": [
        "6) Сколько уникальных сессий, в которых покупали товары бренда `runail`?"
      ],
      "metadata": {
        "id": "zeA8XgiKqCdW"
      }
    },
    {
      "cell_type": "code",
      "source": [
        "#code here"
      ],
      "metadata": {
        "id": "zhB5rzgFpvsr"
      },
      "execution_count": null,
      "outputs": []
    },
    {
      "cell_type": "markdown",
      "source": [
        "7) Какова средняя цена покупки в этих сессиях, с условием, что поле `category_code` не должно быть пустым?\n",
        "\n",
        "Сохраните значение в переменную `mean_price_purchase_runail`"
      ],
      "metadata": {
        "id": "95TPrPE8sCIG"
      }
    },
    {
      "cell_type": "code",
      "source": [
        "#code here"
      ],
      "metadata": {
        "id": "rUUq9JVwsBs0"
      },
      "execution_count": null,
      "outputs": []
    },
    {
      "cell_type": "code",
      "source": [
        "assert 29.13 < mean_price_purchase_runail < 29.14, \"Неправильное значение\""
      ],
      "metadata": {
        "id": "jkuB52m1xdjy"
      },
      "execution_count": null,
      "outputs": []
    },
    {
      "cell_type": "markdown",
      "source": [
        "8) Посчитайте, сколько произошло событий каждого типа (`event_type`)."
      ],
      "metadata": {
        "id": "Sldm49posNRk"
      }
    },
    {
      "cell_type": "code",
      "source": [],
      "metadata": {
        "id": "HbZOjI35sMzW"
      },
      "execution_count": null,
      "outputs": []
    },
    {
      "cell_type": "markdown",
      "source": [
        "## Задание 3. Анализ поведения пользователей\n",
        "(~ 0.3 баллов)"
      ],
      "metadata": {
        "id": "zwirP2rV_xld"
      }
    },
    {
      "cell_type": "markdown",
      "source": [
        "1) Проанализируйте количество покупок у пользователей.\n",
        "\n",
        "Посчитайте долю покупок в общем числе событий.\n",
        "\n",
        "Для каждого пользователя посчитайте количество событий типа `purchase`, а затем сгруппируйте пользователей по числу покупок и посчитайте количество пользователей в каждой группе. Нарисуйте простую столбчатую диаграмму, используя код ниже."
      ],
      "metadata": {
        "id": "9TuU5ymZtMV_"
      }
    },
    {
      "cell_type": "code",
      "source": [],
      "metadata": {
        "id": "UmCXIcy_tLwf"
      },
      "execution_count": null,
      "outputs": []
    },
    {
      "cell_type": "code",
      "source": [
        "import matplotlib.pyplot as plt\n",
        "\n",
        "plt.bar(...) # прочтите документацию к данной функции\n",
        "plt.show()"
      ],
      "metadata": {
        "id": "WTUjznUPti09"
      },
      "execution_count": null,
      "outputs": []
    },
    {
      "cell_type": "markdown",
      "source": [
        "Какие выводы о количестве покупок можно сделать?"
      ],
      "metadata": {
        "id": "NFteTfe4t0-R"
      }
    },
    {
      "cell_type": "markdown",
      "source": [
        "2) Найдите среднее и медианное значение количества уникальных сессий на одного пользователя.\n",
        "\n",
        "Сохраните значения в переменные `mean_grouped_user_session` и `median_grouped_user_session`"
      ],
      "metadata": {
        "id": "gNtgf_nZ_xkB"
      }
    },
    {
      "cell_type": "code",
      "source": [
        "#code here"
      ],
      "metadata": {
        "id": "DQ57XIuxAFwO"
      },
      "execution_count": null,
      "outputs": []
    },
    {
      "cell_type": "code",
      "source": [
        "assert 2.76 < mean_grouped_user_session < 2.77\n",
        "assert median_grouped_user_session == 1.0"
      ],
      "metadata": {
        "id": "hN7pqsWHB8Dx"
      },
      "execution_count": null,
      "outputs": []
    },
    {
      "cell_type": "markdown",
      "source": [
        "Попробуйте объяснить в чем причина такого большого расхождения между этими значениями?"
      ],
      "metadata": {
        "id": "DVzoqfkpCBmK"
      }
    },
    {
      "cell_type": "markdown",
      "source": [
        "Ответ:"
      ],
      "metadata": {
        "id": "mrGWiO-cDaHL"
      }
    },
    {
      "cell_type": "markdown",
      "source": [
        "3) Рассмотрите любого пользователя с более чем 100 покупками. Выпишите его историю событий в виде последовательности типов событий. Что можно сказать о процессе покупки?"
      ],
      "metadata": {
        "id": "_RalZ9I0uh4i"
      }
    },
    {
      "cell_type": "code",
      "source": [],
      "metadata": {
        "id": "hsNGQ4uquiHC"
      },
      "execution_count": null,
      "outputs": []
    },
    {
      "cell_type": "markdown",
      "metadata": {
        "id": "wvY9zVJoX79W"
      },
      "source": [
        "## Задание 4. Воронка продаж\n",
        "(~ 0.7 баллов)"
      ]
    },
    {
      "cell_type": "markdown",
      "metadata": {
        "id": "zhnpDl4V-eXy"
      },
      "source": [
        "Воронка продаж - это визуальное представление пути от первого контакта потенциального покупателя  с каналом продаж до совершения покупки. Это помогает отделу продаж понять, где им нужно отслеживать или изменять процесс продаж из-за падения в воронке продаж."
      ]
    },
    {
      "cell_type": "markdown",
      "source": [
        " В первую очередь необходимо создать новую колонку, которая будет кодировать дату и время события в название месяца. Назовите новый признак - `month`\n",
        "\n",
        " Пример: `2019-10-01 00:00:00+0000` --> `October`\n",
        "\n",
        "Подсказка: воспользуйтесь методами объектов типа `pd.Timestamp`"
      ],
      "metadata": {
        "id": "LbRIIbNvMzOD"
      }
    },
    {
      "cell_type": "code",
      "source": [
        "#code here"
      ],
      "metadata": {
        "id": "TnNKseegNiv_"
      },
      "execution_count": null,
      "outputs": []
    },
    {
      "cell_type": "markdown",
      "metadata": {
        "id": "5rfSQYn_kWW1"
      },
      "source": [
        "Напишите функцию `count_events_session`, которая на вход принимает датасет (`events_data`). Функция должна возвращать словарь, где ключами выступает название месяца, а значениями список со следующими значениями:\n",
        "\n",
        "Количество уникальных сессий (в определенный месяц), в которых были события\n",
        "1. просмотра товара\n",
        "2. добавления в корзину\n",
        "3. покупки"
      ]
    },
    {
      "cell_type": "code",
      "execution_count": null,
      "metadata": {
        "id": "qQa0eua9_i1K"
      },
      "outputs": [],
      "source": [
        "#code here"
      ]
    },
    {
      "cell_type": "markdown",
      "source": [
        "Посмотройте воронку продаж в разрезе каждого месяца."
      ],
      "metadata": {
        "id": "SEtwHbbRf3Rq"
      }
    },
    {
      "cell_type": "code",
      "execution_count": null,
      "metadata": {
        "id": "NQrnVhR5Cg2o"
      },
      "outputs": [],
      "source": [
        "from plotly import graph_objects as go\n",
        "\n",
        "fig = go.Figure()\n",
        "\n",
        "funnel_dict = count_events_session(events_data)\n",
        "for key, value in funnel_dict.items():\n",
        "\n",
        "    fig.add_trace(go.Funnel(\n",
        "        name = key,\n",
        "        x=value,\n",
        "        y=[\"view\", \"cart\", \"purchase\"],\n",
        "        textposition=\"inside\",\n",
        "        textinfo=\"value+percent previous\"\n",
        "        ))\n",
        "\n",
        "fig.show()"
      ]
    },
    {
      "cell_type": "markdown",
      "source": [
        "Конверсия продаж - это процент сессий с покупками относительно сессий с просмотрами. Данный показатель для большинства месяцев колеблется примерно на одном уровне, но один из месяцев выделяется довольно сильно.\n",
        "Как бы вы смогли обьяснить такую аномалию?"
      ],
      "metadata": {
        "id": "eeSQ6UxVj2DF"
      }
    },
    {
      "cell_type": "markdown",
      "source": [
        "Ответ:"
      ],
      "metadata": {
        "id": "lzYS0LnjlL9n"
      }
    },
    {
      "cell_type": "markdown",
      "metadata": {
        "id": "DAKQEqrVdnys"
      },
      "source": [
        "Посчитайте конверсию продаж - процент сессий дошедшних до покупки относительно:\n",
        "- уникальных сессий, в которых были просмотры товара\n",
        "- всех уникальных сессий\n",
        "\n",
        "Сохраните полученные значения в переменные `purchase_conversion_at_view` и `purchase_conversion_at_all` соответственно"
      ]
    },
    {
      "cell_type": "code",
      "execution_count": null,
      "metadata": {
        "id": "A6YiEGZs2Mz4"
      },
      "outputs": [],
      "source": [
        "#code here"
      ]
    },
    {
      "cell_type": "code",
      "execution_count": null,
      "metadata": {
        "id": "n7iYMDpo43B8"
      },
      "outputs": [],
      "source": [
        "assert 3.63 < purchase_conversion_at_view < 3.64, 'Неправильное значение конверсии относительно сессий, в которых были просмотры товара'\n",
        "assert 3.43 < purchase_conversion_at_all < 3.44, 'Неправильное значение конверсии относительно всех уникальных сессий'"
      ]
    },
    {
      "cell_type": "markdown",
      "metadata": {
        "id": "Gi-Wy0ozZrjg"
      },
      "source": [
        "Как можно заметить конверсия продаж относительно просмотров товара и конверсия продаж относительно всех уникальных сессий отличается.\n",
        "\n",
        "Попробуйте объяснить причину данного явления."
      ]
    },
    {
      "cell_type": "markdown",
      "metadata": {
        "id": "AGADidbfboTz"
      },
      "source": [
        "Ответ:"
      ]
    },
    {
      "cell_type": "markdown",
      "source": [
        "## Задание 5. Google-таблицы.\n",
        "\n",
        "1 балл"
      ],
      "metadata": {
        "id": "ARAjb0awcOot"
      }
    },
    {
      "cell_type": "markdown",
      "source": [
        "В этом задании вы научитесь загружать и выгружать данные в/из `Google Sheets`.\n",
        "\n",
        "Необходимо:\n",
        "- уменьшить изначальный датасет до первых 50000 строк (это нужно потому что в гугл-таблицах есть ограничение на количество ячеек)\n",
        "- записать столбцы `product_id` и `price` в таблицу 1\n",
        "- записать столбцы `event_type` и `user_session` в таблицу 2\n",
        "- в таблице 1 создать новый столбец price_with_discount, созданный на основе столбца price за вычетом скидки 10% стоимости товара\n",
        "- в таблице 2 обновить значения колонок со строками от 50000 до 100000\n",
        "- выгрузить таблицы и сохранить в `pandas dataframe`\n",
        "\n",
        "Важно:\n",
        "Не записывайте креды доступа в код, это небезопасно. Используйте `os.getenv` или другой аналог, чтобы считывать их из переменных окружения. Если используете `Google Colab`, можете считывать их с диска.\n",
        "\n",
        "Инструкция по получению кредов https://developers.google.com/workspace/guides/create-credentials\n",
        "\n",
        "Презентация: https://docs.google.com/presentation/d/1KDSzmU-GREeXEQXau2DSE33NUZGgLQXV8jBemTtfSPo"
      ],
      "metadata": {
        "id": "vefDn3sKcWbb"
      }
    },
    {
      "cell_type": "code",
      "source": [
        "#code here"
      ],
      "metadata": {
        "id": "qVVMttx1kNgK"
      },
      "execution_count": null,
      "outputs": []
    }
  ],
  "metadata": {
    "colab": {
      "provenance": [],
      "include_colab_link": true
    },
    "kernelspec": {
      "display_name": "Python 3",
      "name": "python3"
    },
    "language_info": {
      "name": "python"
    }
  },
  "nbformat": 4,
  "nbformat_minor": 0
}